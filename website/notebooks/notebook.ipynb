{
 "cells": [
  {
   "cell_type": "code",
   "execution_count": null,
   "id": "1636d133",
   "metadata": {},
   "outputs": [],
   "source": [
    "import numpy as np\n",
    "import pandas as pd\n",
    "import urllib\n",
    "import os\n",
    "from bs4 import BeautifulSoup\n",
    "import re\n",
    "import pickle\n",
    "import nltk\n",
    "import string\n",
    "from wordcloud import WordCloud\n",
    "import matplotlib.pyplot as plt\n",
    "import seaborn as sns\n",
    "\n",
    "from nltk.tokenize import RegexpTokenizer\n",
    "from nltk.stem import SnowballStemmer\n",
    "from nltk.corpus import stopwords\n",
    "from collections import Counter\n",
    "from PIL import Image\n",
    "from sklearn.linear_model import LogisticRegression\n",
    "from sklearn.model_selection import train_test_split\n",
    "from sklearn.metrics import accuracy_score, classification_report, confusion_matrix\n",
    "from sklearn.preprocessing import StandardScaler"
   ]
  },
  {
   "cell_type": "code",
   "execution_count": null,
   "id": "e106b47b",
   "metadata": {},
   "outputs": [],
   "source": [
    "def loadFile(name):\n",
    "    directory = str(os.getcwd())\n",
    "    filepath = os.path.join(directory, name)\n",
    "    with open(filepath,'r') as f:\n",
    "        data = f.readlines()\n",
    "    data = list(set(data))\n",
    "    result = []\n",
    "    for d in data:\n",
    "        d = str(urllib.parse.unquote(d))\n",
    "        result.append(d)\n",
    "    return result"
   ]
  },
  {
   "cell_type": "code",
   "execution_count": null,
   "id": "8244fac0",
   "metadata": {},
   "outputs": [],
   "source": [
    "badQueries = loadFile(\"badqueries.txt\")\n",
    "goodQueries = loadFile(\"goodqueries.txt\")"
   ]
  },
  {
   "cell_type": "code",
   "execution_count": null,
   "id": "4e286af9",
   "metadata": {},
   "outputs": [],
   "source": [
    "bad_df = pd.DataFrame(badQueries)\n",
    "good_df = pd.DataFrame(goodQueries)"
   ]
  },
  {
   "cell_type": "code",
   "execution_count": null,
   "id": "34186f7b",
   "metadata": {},
   "outputs": [],
   "source": [
    "bad_df.columns = [\"query\"]\n",
    "good_df.columns = [\"query\"]"
   ]
  },
  {
   "cell_type": "code",
   "execution_count": null,
   "id": "365c74f2",
   "metadata": {},
   "outputs": [],
   "source": [
    "bad_df.head()"
   ]
  },
  {
   "cell_type": "code",
   "execution_count": null,
   "id": "bd171270",
   "metadata": {},
   "outputs": [],
   "source": [
    "good_df.head()"
   ]
  },
  {
   "cell_type": "code",
   "execution_count": null,
   "id": "81de9247",
   "metadata": {},
   "outputs": [],
   "source": [
    "text = good_df.loc[0].str\n",
    "text = text[:-2]\n",
    "text"
   ]
  },
  {
   "cell_type": "code",
   "execution_count": null,
   "id": "2623b837",
   "metadata": {},
   "outputs": [],
   "source": [
    "def clean_newline(column):\n",
    "    column[:-2]\n",
    "    return column[:-2]"
   ]
  },
  {
   "cell_type": "code",
   "execution_count": null,
   "id": "b5705a73",
   "metadata": {},
   "outputs": [],
   "source": [
    "good_df[\"query\"] = good_df[\"query\"].apply(clean_newline)"
   ]
  },
  {
   "cell_type": "code",
   "execution_count": null,
   "id": "e2d3879e",
   "metadata": {},
   "outputs": [],
   "source": [
    "good_df.head()"
   ]
  },
  {
   "cell_type": "code",
   "execution_count": null,
   "id": "b63f4584",
   "metadata": {},
   "outputs": [],
   "source": [
    "bad_df[\"query\"] = bad_df[\"query\"].apply(clean_newline)"
   ]
  },
  {
   "cell_type": "code",
   "execution_count": null,
   "id": "342ca233",
   "metadata": {},
   "outputs": [],
   "source": [
    "bad_df.head()"
   ]
  },
  {
   "cell_type": "code",
   "execution_count": null,
   "id": "2776cb19",
   "metadata": {},
   "outputs": [],
   "source": [
    "good_df[\"label\"] = 0\n",
    "bad_df[\"label\"] = 1"
   ]
  },
  {
   "cell_type": "code",
   "execution_count": null,
   "id": "4d103b34",
   "metadata": {},
   "outputs": [],
   "source": [
    "good_df.shape[0] + bad_df.shape[0]"
   ]
  },
  {
   "cell_type": "code",
   "execution_count": null,
   "id": "0e179f02",
   "metadata": {},
   "outputs": [],
   "source": [
    "df = pd.concat([good_df, bad_df], axis=0)"
   ]
  },
  {
   "cell_type": "code",
   "execution_count": null,
   "id": "3f19b8bf",
   "metadata": {},
   "outputs": [],
   "source": [
    "df.shape[0]"
   ]
  },
  {
   "cell_type": "code",
   "execution_count": null,
   "id": "d9127b84",
   "metadata": {},
   "outputs": [],
   "source": [
    "df.head()"
   ]
  },
  {
   "cell_type": "code",
   "execution_count": null,
   "id": "ed4875e7",
   "metadata": {},
   "outputs": [],
   "source": [
    "df = df.sample(frac=1).reset_index(drop=True)"
   ]
  },
  {
   "cell_type": "code",
   "execution_count": null,
   "id": "e81344c9",
   "metadata": {},
   "outputs": [],
   "source": [
    "df.head()"
   ]
  },
  {
   "cell_type": "code",
   "execution_count": null,
   "id": "2f72a9d2",
   "metadata": {},
   "outputs": [],
   "source": [
    "df[\"label\"].value_counts().plot(kind=\"pie\", autopct=\"%.2f%%\").set_title(\"MALICIOUS - BENIGN\")"
   ]
  },
  {
   "cell_type": "code",
   "execution_count": null,
   "id": "4fbd9941",
   "metadata": {},
   "outputs": [],
   "source": [
    "def clear_first_char(column):\n",
    "    if column.startswith(\"/\"):\n",
    "        return column[1:]\n",
    "    else:\n",
    "        return column"
   ]
  },
  {
   "cell_type": "code",
   "execution_count": null,
   "id": "4a407418",
   "metadata": {},
   "outputs": [],
   "source": [
    "df[\"query\"] = df[\"query\"].apply(clear_first_char)"
   ]
  },
  {
   "cell_type": "code",
   "execution_count": null,
   "id": "47703e6f",
   "metadata": {},
   "outputs": [],
   "source": [
    "df.head()"
   ]
  },
  {
   "cell_type": "markdown",
   "id": "b941c160",
   "metadata": {},
   "source": [
    "# Preprocess"
   ]
  },
  {
   "cell_type": "code",
   "execution_count": null,
   "id": "009e86a3",
   "metadata": {},
   "outputs": [],
   "source": [
    "def xss_check(input_string):\n",
    "    xss_pattern = re.compile(r'(<|>|&lt;|&gt;|script|alert|document\\.|onload\\=|onerror\\=|eval\\(|expression\\(|prompt\\(|confirm\\()')\n",
    "    if xss_pattern.search(input_string.split(\"/\")[-1]):\n",
    "        return 1\n",
    "    else:\n",
    "        return 0"
   ]
  },
  {
   "cell_type": "code",
   "execution_count": null,
   "id": "728ef532",
   "metadata": {},
   "outputs": [],
   "source": [
    "df[\"is_xss\"] = df[\"query\"].apply(xss_check)"
   ]
  },
  {
   "cell_type": "code",
   "execution_count": null,
   "id": "4a24bb31",
   "metadata": {},
   "outputs": [],
   "source": [
    "df[df[\"is_xss\"] == 1].head()"
   ]
  },
  {
   "cell_type": "code",
   "execution_count": null,
   "id": "825b61c9",
   "metadata": {},
   "outputs": [],
   "source": [
    "def lfi_check(input_string):\n",
    "    lfi_pattern = re.compile(r'(file\\:\\/\\/|(\\.\\.\\/)|(\\.\\.\\\\))')\n",
    "    if \"=\" in input_string.split(\"/\")[-1]:\n",
    "        if lfi_pattern.search(input_string.split(\"/\")[-1].split(\"=\", 1)[1]):\n",
    "            return 1\n",
    "        else:\n",
    "            return 0\n",
    "    elif lfi_pattern.search(input_string.split(\"/\")[-1]):\n",
    "        return 1\n",
    "    else:\n",
    "        return 0"
   ]
  },
  {
   "cell_type": "code",
   "execution_count": null,
   "id": "43f6fd3d",
   "metadata": {},
   "outputs": [],
   "source": [
    "\"scripts/misc/audio.php?recording=../version.in\".split(\"=\", 1)"
   ]
  },
  {
   "cell_type": "code",
   "execution_count": null,
   "id": "2286f8dc",
   "metadata": {},
   "outputs": [],
   "source": [
    "df[\"is_lfi\"] = df[\"query\"].apply(lfi_check)"
   ]
  },
  {
   "cell_type": "code",
   "execution_count": null,
   "id": "852559b1",
   "metadata": {},
   "outputs": [],
   "source": [
    "df[df[\"is_lfi\"] == 1].sample(5)"
   ]
  },
  {
   "cell_type": "code",
   "execution_count": null,
   "id": "28d6acad",
   "metadata": {},
   "outputs": [],
   "source": [
    "def command_injection_check(input_string):\n",
    "    cmd_injection_pattern = re.compile(r'(;|\\||`|\\$\\(|\\$\\{)')\n",
    "\n",
    "    if cmd_injection_pattern.search(input_string):\n",
    "        return 1\n",
    "    else:\n",
    "        return 0"
   ]
  },
  {
   "cell_type": "code",
   "execution_count": null,
   "id": "be62e7d1",
   "metadata": {},
   "outputs": [],
   "source": [
    "df[\"is_oci\"] = df[\"query\"].apply(command_injection_check)"
   ]
  },
  {
   "cell_type": "code",
   "execution_count": null,
   "id": "e9a6b253",
   "metadata": {},
   "outputs": [],
   "source": [
    "df[df[\"is_oci\"] == 1].sample(5)"
   ]
  },
  {
   "cell_type": "code",
   "execution_count": null,
   "id": "e0e0cda1",
   "metadata": {},
   "outputs": [],
   "source": [
    "def sql_injection_check(input_string):\n",
    "    sql_injection_pattern = re.compile(r'(\\b(SELECT|INSERT|UPDATE|DELETE|FROM|WHERE|AND|OR|UNION|ALL|EXEC|EXECUTE|DECLARE|CAST)\\b)')\n",
    "\n",
    "    if sql_injection_pattern.search(input_string):\n",
    "        return 1\n",
    "    else:\n",
    "        return 0"
   ]
  },
  {
   "cell_type": "code",
   "execution_count": null,
   "id": "dc159882",
   "metadata": {},
   "outputs": [],
   "source": [
    "df[\"is_sqli\"] = df[\"query\"].apply(sql_injection_check)"
   ]
  },
  {
   "cell_type": "code",
   "execution_count": null,
   "id": "43d07341",
   "metadata": {},
   "outputs": [],
   "source": [
    "df[df[\"is_sqli\"] == 1].sample(5)"
   ]
  },
  {
   "cell_type": "code",
   "execution_count": null,
   "id": "ceb8c05b",
   "metadata": {},
   "outputs": [],
   "source": [
    "def urllen(url):\n",
    "    return len(url)"
   ]
  },
  {
   "cell_type": "code",
   "execution_count": null,
   "id": "ee3fcba7",
   "metadata": {},
   "outputs": [],
   "source": [
    "df[\"url_len\"] = df[\"query\"].apply(urllen)"
   ]
  },
  {
   "cell_type": "code",
   "execution_count": null,
   "id": "dcf44730",
   "metadata": {},
   "outputs": [],
   "source": [
    "df.head()"
   ]
  },
  {
   "cell_type": "code",
   "execution_count": null,
   "id": "9c8e0cf8",
   "metadata": {},
   "outputs": [],
   "source": [
    "def delimitercount(url):\n",
    "    return url.count(\";\") + url.count(\"_\") + url.count(\"?\") + url.count(\"=\") + url.count(\"&\") + url.count(\"|\")"
   ]
  },
  {
   "cell_type": "code",
   "execution_count": null,
   "id": "6a01507e",
   "metadata": {},
   "outputs": [],
   "source": [
    "df[\"delim_count\"] = df[\"query\"].apply(delimitercount)"
   ]
  },
  {
   "cell_type": "code",
   "execution_count": null,
   "id": "069b934b",
   "metadata": {},
   "outputs": [],
   "source": [
    "df.head()"
   ]
  },
  {
   "cell_type": "code",
   "execution_count": null,
   "id": "8f372541",
   "metadata": {},
   "outputs": [],
   "source": [
    "def dotcount(url):\n",
    "    return url.count(\".\")"
   ]
  },
  {
   "cell_type": "code",
   "execution_count": null,
   "id": "392cc656",
   "metadata": {},
   "outputs": [],
   "source": [
    "df[\"dot_count\"] = df[\"query\"].apply(dotcount)"
   ]
  },
  {
   "cell_type": "code",
   "execution_count": null,
   "id": "c7834140",
   "metadata": {},
   "outputs": [],
   "source": [
    "df.head()"
   ]
  },
  {
   "cell_type": "code",
   "execution_count": null,
   "id": "ab150f06",
   "metadata": {},
   "outputs": [],
   "source": [
    "def atcount(url):\n",
    "    return url.count(\"@\")"
   ]
  },
  {
   "cell_type": "code",
   "execution_count": null,
   "id": "8725d658",
   "metadata": {},
   "outputs": [],
   "source": [
    "df[\"at_count\"] = df[\"query\"].apply(atcount)"
   ]
  },
  {
   "cell_type": "code",
   "execution_count": null,
   "id": "538ac689",
   "metadata": {},
   "outputs": [],
   "source": [
    "df[df[\"at_count\"] == 1].head()"
   ]
  },
  {
   "cell_type": "code",
   "execution_count": null,
   "id": "54fa9db2",
   "metadata": {},
   "outputs": [],
   "source": [
    "df.sample(5)"
   ]
  },
  {
   "cell_type": "code",
   "execution_count": null,
   "id": "9cde8de5",
   "metadata": {},
   "outputs": [],
   "source": [
    "def subdircount(url):\n",
    "    return url.count(\"/\")"
   ]
  },
  {
   "cell_type": "code",
   "execution_count": null,
   "id": "152c7006",
   "metadata": {},
   "outputs": [],
   "source": [
    "df[\"subdir_count\"] = df[\"query\"].apply(subdircount)"
   ]
  },
  {
   "cell_type": "code",
   "execution_count": null,
   "id": "447b09c6",
   "metadata": {},
   "outputs": [],
   "source": [
    "df.head()"
   ]
  },
  {
   "cell_type": "code",
   "execution_count": null,
   "id": "dd9d6fd5",
   "metadata": {},
   "outputs": [],
   "source": [
    "def query_count(query):\n",
    "    if \"=\" in query:\n",
    "        return len(query.split(\"=\")[1])\n",
    "    else:\n",
    "        return 0"
   ]
  },
  {
   "cell_type": "code",
   "execution_count": null,
   "id": "0d38f3ff",
   "metadata": {},
   "outputs": [],
   "source": [
    "df[\"query_len\"] = df[\"query\"].apply(query_count)"
   ]
  },
  {
   "cell_type": "code",
   "execution_count": null,
   "id": "4344a48f",
   "metadata": {},
   "outputs": [],
   "source": [
    "df[df[\"query_len\"] != 0].head()"
   ]
  },
  {
   "cell_type": "code",
   "execution_count": null,
   "id": "56ab2039",
   "metadata": {},
   "outputs": [],
   "source": [
    "def total_digits_in_url(url):\n",
    "    total_digits = 0\n",
    "    for text in list(map(str, \"0123456789\")):\n",
    "        total_digits += url.lower().count(text)\n",
    "        \n",
    "    return total_digits"
   ]
  },
  {
   "cell_type": "code",
   "execution_count": null,
   "id": "41a3bdb8",
   "metadata": {},
   "outputs": [],
   "source": [
    "df[\"total_digits_url\"] = df[\"query\"].apply(total_digits_in_url)"
   ]
  },
  {
   "cell_type": "code",
   "execution_count": null,
   "id": "8995a5fa",
   "metadata": {},
   "outputs": [],
   "source": [
    "df.sample(5)"
   ]
  },
  {
   "cell_type": "code",
   "execution_count": null,
   "id": "e7667ddb",
   "metadata": {},
   "outputs": [],
   "source": [
    "def total_letter_in_url(url):\n",
    "    total_letter = 0\n",
    "    for text in url:\n",
    "        if text not in \"0123456789\":\n",
    "            if text not in string.punctuation:\n",
    "                total_letter += 1\n",
    "        \n",
    "    return total_letter"
   ]
  },
  {
   "cell_type": "code",
   "execution_count": null,
   "id": "1b0af344",
   "metadata": {},
   "outputs": [],
   "source": [
    "df[\"total_letter_url\"] = df[\"query\"].apply(total_letter_in_url)"
   ]
  },
  {
   "cell_type": "code",
   "execution_count": null,
   "id": "d66fe8d1",
   "metadata": {},
   "outputs": [],
   "source": [
    "string.punctuation"
   ]
  },
  {
   "cell_type": "code",
   "execution_count": null,
   "id": "e4bdca6a",
   "metadata": {},
   "outputs": [],
   "source": [
    "text = \"adas!!1231.@\"\n",
    "total_letter_in_url(text)"
   ]
  },
  {
   "cell_type": "code",
   "execution_count": null,
   "id": "9b867478",
   "metadata": {},
   "outputs": [],
   "source": [
    "url = \"/text/shell.php?acas\"\n",
    "url.split(\"/\")[-1]"
   ]
  },
  {
   "cell_type": "code",
   "execution_count": null,
   "id": "d7d9fb88",
   "metadata": {},
   "outputs": [],
   "source": [
    "tokenizer = RegexpTokenizer(r\"[A-Za-z]+\")"
   ]
  },
  {
   "cell_type": "code",
   "execution_count": null,
   "id": "9d9dfd63",
   "metadata": {},
   "outputs": [],
   "source": [
    "df[\"url_tokenized\"] = df[\"query\"].apply(lambda x: tokenizer.tokenize(x))"
   ]
  },
  {
   "cell_type": "code",
   "execution_count": null,
   "id": "a6c991c3",
   "metadata": {},
   "outputs": [],
   "source": [
    "df.sample(5)"
   ]
  },
  {
   "cell_type": "code",
   "execution_count": null,
   "id": "26db44c8",
   "metadata": {},
   "outputs": [],
   "source": [
    "stemmer = SnowballStemmer(\"english\")"
   ]
  },
  {
   "cell_type": "code",
   "execution_count": null,
   "id": "5c2da9f6",
   "metadata": {},
   "outputs": [],
   "source": [
    "def stem_url(column):\n",
    "    words = [stemmer.stem(word) for word in column]\n",
    "    return \" \".join(words)"
   ]
  },
  {
   "cell_type": "code",
   "execution_count": null,
   "id": "4f326ed7",
   "metadata": {},
   "outputs": [],
   "source": [
    "df[\"url_stemmed\"] = df[\"url_tokenized\"].apply(stem_url)"
   ]
  },
  {
   "cell_type": "code",
   "execution_count": null,
   "id": "792cf173",
   "metadata": {},
   "outputs": [],
   "source": [
    "df.sample(5)"
   ]
  },
  {
   "cell_type": "code",
   "execution_count": null,
   "id": "72dab097",
   "metadata": {},
   "outputs": [],
   "source": [
    "cn_phishing = Counter()\n",
    "cn_safe = Counter()\n",
    "\n",
    "for text, phishing in zip(df.url_stemmed.values, df.label.values):\n",
    "    for word in text.split():\n",
    "        if len(word) >= 4:\n",
    "            if phishing == 1:\n",
    "                cn_phishing[word] += 1\n",
    "            else:\n",
    "                cn_safe[word] += 1\n",
    "            \n",
    "phishing_most_common_words = cn_phishing.most_common(30)\n",
    "safe_most_common_words = cn_safe.most_common(30)"
   ]
  },
  {
   "cell_type": "code",
   "execution_count": null,
   "id": "5c4b66b4",
   "metadata": {},
   "outputs": [],
   "source": [
    "def word_freq(freq_top, LABEL):\n",
    "    words = [word for word, _ in freq_top]\n",
    "    counts = [count for _, count in freq_top]\n",
    "    \n",
    "    plt.figure(figsize=(20, 5))\n",
    "    ax = sns.barplot(x=words, y=counts)\n",
    "    plt.title(f\"TOP 20 WORDS IN - {'BENIGN' if LABEL == 0 else 'MALICIOUS'}\")\n",
    "    plt.ylabel(\"Frequency\")\n",
    "    plt.xlabel(\"Words\")\n",
    "    plt.show()\n",
    "    \n",
    "    return freq_top"
   ]
  },
  {
   "cell_type": "code",
   "execution_count": null,
   "id": "ad9cfd21",
   "metadata": {},
   "outputs": [],
   "source": [
    "benign_top = word_freq(safe_most_common_words, 0)"
   ]
  },
  {
   "cell_type": "code",
   "execution_count": null,
   "id": "48152282",
   "metadata": {},
   "outputs": [],
   "source": [
    "malicious_top = word_freq(phishing_most_common_words, 1)"
   ]
  },
  {
   "cell_type": "code",
   "execution_count": null,
   "id": "1e323a39",
   "metadata": {},
   "outputs": [],
   "source": [
    "def print_wordcloud(dict_top, LABEL, mask):\n",
    "    dict_top = dict(dict_top)\n",
    "    wordcloud = WordCloud(width=350, height=350, mask=np.array(Image.open(mask)), background_color=\"white\").generate_from_frequencies(dict_top)\n",
    "    \n",
    "    plt.figure()\n",
    "    plt.imshow(wordcloud)\n",
    "    plt.axis(\"off\")\n",
    "    plt.tight_layout(pad=0)\n",
    "    plt.title(f\"TOP 20 WORDS IN - {'BENIGN' if LABEL == 0 else 'MALICIOUS'}\")\n",
    "    plt.show()"
   ]
  },
  {
   "cell_type": "code",
   "execution_count": null,
   "id": "2c0833a1",
   "metadata": {},
   "outputs": [],
   "source": [
    "print_wordcloud(benign_top, 0, mask=\"../masks-wordclouds/user.png\")"
   ]
  },
  {
   "cell_type": "code",
   "execution_count": null,
   "id": "44dfd584",
   "metadata": {},
   "outputs": [],
   "source": [
    "print_wordcloud(malicious_top, 1, mask=\"../masks-wordclouds/star.png\")"
   ]
  },
  {
   "cell_type": "code",
   "execution_count": null,
   "id": "44547206",
   "metadata": {},
   "outputs": [],
   "source": [
    "df.sample(10)"
   ]
  },
  {
   "cell_type": "code",
   "execution_count": null,
   "id": "6cbe7e1e",
   "metadata": {},
   "outputs": [],
   "source": [
    "def total_digits_domain(url):\n",
    "    if \"/\" in url:\n",
    "        path = url.split(\"/\")[-1]\n",
    "        dom = url.replace(path, \"\")\n",
    "        return total_digits_in_url(dom)\n",
    "    else:\n",
    "        return 0"
   ]
  },
  {
   "cell_type": "code",
   "execution_count": null,
   "id": "977f4691",
   "metadata": {},
   "outputs": [],
   "source": [
    "df[\"total_digits_domain\"] = df[\"query\"].apply(total_digits_domain)"
   ]
  },
  {
   "cell_type": "code",
   "execution_count": null,
   "id": "df30db8d",
   "metadata": {},
   "outputs": [],
   "source": [
    "def total_letter_domain(url):\n",
    "    if \"/\" in url:\n",
    "        path = url.split(\"/\")[-1]\n",
    "        dom = url.replace(path, \"\")\n",
    "        return total_letter_in_url(dom)\n",
    "    else:\n",
    "        return 0"
   ]
  },
  {
   "cell_type": "code",
   "execution_count": null,
   "id": "34482af3",
   "metadata": {},
   "outputs": [],
   "source": [
    "df[\"total_letter_domain\"] = df[\"query\"].apply(total_letter_domain)"
   ]
  },
  {
   "cell_type": "code",
   "execution_count": null,
   "id": "a96208a2",
   "metadata": {},
   "outputs": [],
   "source": [
    "def total_digits_path(url):\n",
    "    if \"/\" in url:\n",
    "        path = url.split(\"/\")[-1]\n",
    "        return total_digits_in_url(path)\n",
    "    else:\n",
    "        return total_digits_in_url(url)"
   ]
  },
  {
   "cell_type": "code",
   "execution_count": null,
   "id": "3ddc2626",
   "metadata": {},
   "outputs": [],
   "source": [
    "df[\"total_digits_path\"] = df[\"query\"].apply(total_digits_path)"
   ]
  },
  {
   "cell_type": "code",
   "execution_count": null,
   "id": "cf2910f3",
   "metadata": {},
   "outputs": [],
   "source": [
    "def total_letter_path(url):\n",
    "    if \"/\" in url:\n",
    "        path = url.split(\"/\")[-1]\n",
    "        return total_letter_in_url(path)\n",
    "    else:\n",
    "        return total_letter_in_url(url)"
   ]
  },
  {
   "cell_type": "code",
   "execution_count": null,
   "id": "1f5e2ff3",
   "metadata": {},
   "outputs": [],
   "source": [
    "df[\"total_letter_path\"] = df[\"query\"].apply(total_letter_path)"
   ]
  },
  {
   "cell_type": "code",
   "execution_count": null,
   "id": "e6cb1dc7",
   "metadata": {},
   "outputs": [],
   "source": [
    "df.sample(10)"
   ]
  },
  {
   "cell_type": "code",
   "execution_count": null,
   "id": "b7c5861b",
   "metadata": {},
   "outputs": [],
   "source": [
    "def get_histplot_central_tendency(df, field, target):\n",
    "    v_dist_1 = df[field].values\n",
    "    plt.figure()\n",
    "    sns.histplot(v_dist_1, kde=True)\n",
    "\n",
    "    mean = df[field].mean()\n",
    "    median = df[field].median()\n",
    "    mode = df[field].mode()\n",
    "\n",
    "    plt.axvline(mean, color=\"r\", linestyle=\"--\", label=\"Mean\")\n",
    "    plt.axvline(median, color=\"g\", linestyle=\"-\", label=\"Median\")\n",
    "    plt.axvline(median, color=\"b\", linestyle=\":\", label=\"Mode\")\n",
    "    plt.xlabel(f\"count\", fontsize=13, color=\"#333F4B\")\n",
    "    plt.ylabel(f\"{field}\", fontsize=13, color=\"#333F4B\")\n",
    "    plt.legend()\n",
    "    plt.grid(False)\n",
    "    plt.title(f\"Representation Histogram for {field} - {target}\", fontsize=18)\n",
    "    plt.plot(color=\"white\", lw=3)\n",
    "    plt.show()"
   ]
  },
  {
   "cell_type": "code",
   "execution_count": null,
   "id": "4b180587",
   "metadata": {},
   "outputs": [],
   "source": [
    "def has_extension(column):\n",
    "    if \".\" in column.split(\"/\")[-1]:\n",
    "        return 1\n",
    "    else:\n",
    "        return 0"
   ]
  },
  {
   "cell_type": "code",
   "execution_count": null,
   "id": "91ce46a0",
   "metadata": {},
   "outputs": [],
   "source": [
    "df[\"has_extension\"] = df[\"query\"].apply(has_extension)"
   ]
  },
  {
   "cell_type": "code",
   "execution_count": null,
   "id": "6fdf7394",
   "metadata": {},
   "outputs": [],
   "source": [
    "df[df[\"has_extension\"] == 1].sample(5)"
   ]
  },
  {
   "cell_type": "code",
   "execution_count": null,
   "id": "4be091d4",
   "metadata": {},
   "outputs": [],
   "source": [
    "def find_extension(column):\n",
    "    text = column.split(\"/\")[-1]\n",
    "    if \".\" in text:\n",
    "        if \"?\" in text:\n",
    "            return text.split(\"?\", 1)[0]\n",
    "        else:\n",
    "            return text.split(\".\", 1)[1]\n",
    "    else:\n",
    "        return \"\""
   ]
  },
  {
   "cell_type": "code",
   "execution_count": null,
   "id": "378985a0",
   "metadata": {},
   "outputs": [],
   "source": [
    "df[\"extension\"] = df[\"query\"].apply(find_extension)"
   ]
  },
  {
   "cell_type": "code",
   "execution_count": null,
   "id": "e1c3ee61",
   "metadata": {},
   "outputs": [],
   "source": [
    "df[df[\"has_extension\"] == 1].sample(5)"
   ]
  },
  {
   "cell_type": "code",
   "execution_count": null,
   "id": "25aae7b7",
   "metadata": {},
   "outputs": [],
   "source": [
    "cn_phishing_extension = Counter()\n",
    "cn_safe_extension = Counter()\n",
    "\n",
    "for text, phishing in zip(df.extension.values, df.label.values):\n",
    "    for word in text.split():\n",
    "        if len(word) != \"\":\n",
    "            if phishing == 1:\n",
    "                cn_phishing_extension[word] += 1\n",
    "            else:\n",
    "                cn_safe_extension[word] += 1\n",
    "            \n",
    "phishing_most_common_extensions = cn_phishing_extension.most_common(30)\n",
    "safe_most_common_extensions = cn_safe_extension.most_common(30)"
   ]
  },
  {
   "cell_type": "code",
   "execution_count": null,
   "id": "d50c9dbf",
   "metadata": {},
   "outputs": [],
   "source": [
    "phishing_extension_top = word_freq(phishing_most_common_extensions, 1)"
   ]
  },
  {
   "cell_type": "code",
   "execution_count": null,
   "id": "01067434",
   "metadata": {},
   "outputs": [],
   "source": [
    "safe_extension_top = word_freq(safe_most_common_extensions, 0)"
   ]
  },
  {
   "cell_type": "code",
   "execution_count": null,
   "id": "71a64e7f",
   "metadata": {},
   "outputs": [],
   "source": [
    "def has_parameter(column):\n",
    "    if \"?\" in column.split(\"/\")[-1]:\n",
    "        return 1\n",
    "    else:\n",
    "        return 0"
   ]
  },
  {
   "cell_type": "code",
   "execution_count": null,
   "id": "e9d2c84f",
   "metadata": {},
   "outputs": [],
   "source": [
    "df[\"has_parameter\"] = df[\"query\"].apply(has_parameter)"
   ]
  },
  {
   "cell_type": "code",
   "execution_count": null,
   "id": "796be510",
   "metadata": {},
   "outputs": [],
   "source": [
    "df[df[\"has_parameter\"] == 1].sample(5)"
   ]
  },
  {
   "cell_type": "code",
   "execution_count": null,
   "id": "5720246b",
   "metadata": {},
   "outputs": [],
   "source": [
    "df[df[\"has_parameter\"] == 1].sample(1).T"
   ]
  },
  {
   "cell_type": "code",
   "execution_count": null,
   "id": "48e93d54",
   "metadata": {},
   "outputs": [],
   "source": [
    "df.columns"
   ]
  },
  {
   "cell_type": "code",
   "execution_count": null,
   "id": "024dcd6a",
   "metadata": {},
   "outputs": [],
   "source": [
    "features = ['is_xss', 'is_lfi', 'is_oci', 'is_sqli', 'url_len',\n",
    "       'delim_count', 'dot_count', 'at_count', 'subdir_count', 'query_len',\n",
    "       'total_digits_url', 'total_letter_url', 'total_digits_domain', \n",
    "       'total_letter_domain', 'total_digits_path',\n",
    "       'total_letter_path', 'has_extension', 'has_parameter']"
   ]
  },
  {
   "cell_type": "code",
   "execution_count": null,
   "id": "e3024c25",
   "metadata": {},
   "outputs": [],
   "source": [
    "for feature in features:\n",
    "    get_histplot_central_tendency(df[df[\"label\"] == 0], feature, \"Good URLs\")"
   ]
  },
  {
   "cell_type": "code",
   "execution_count": null,
   "id": "8dd31679",
   "metadata": {},
   "outputs": [],
   "source": [
    "for feature in features:\n",
    "    get_histplot_central_tendency(df[df[\"label\"] == 1], feature, \"Bad URLs\")"
   ]
  },
  {
   "cell_type": "code",
   "execution_count": null,
   "id": "81063300",
   "metadata": {},
   "outputs": [],
   "source": []
  },
  {
   "cell_type": "code",
   "execution_count": null,
   "id": "e9b4015c",
   "metadata": {},
   "outputs": [],
   "source": []
  },
  {
   "cell_type": "code",
   "execution_count": null,
   "id": "4205c279",
   "metadata": {},
   "outputs": [],
   "source": []
  },
  {
   "cell_type": "code",
   "execution_count": null,
   "id": "dedee220",
   "metadata": {},
   "outputs": [],
   "source": []
  },
  {
   "cell_type": "code",
   "execution_count": null,
   "id": "06bb82c9",
   "metadata": {},
   "outputs": [],
   "source": []
  },
  {
   "cell_type": "code",
   "execution_count": null,
   "id": "b14d2b9c",
   "metadata": {},
   "outputs": [],
   "source": [
    "df.head()"
   ]
  },
  {
   "cell_type": "markdown",
   "id": "1f0675f4",
   "metadata": {},
   "source": [
    "# Model"
   ]
  },
  {
   "cell_type": "code",
   "execution_count": null,
   "id": "1c953c0b",
   "metadata": {},
   "outputs": [],
   "source": [
    "X = df.drop([\"query\", \"label\", \"url_tokenized\", \"url_stemmed\", \"extension\"], axis=1)\n",
    "y = df[\"label\"]"
   ]
  },
  {
   "cell_type": "code",
   "execution_count": null,
   "id": "ba185544",
   "metadata": {},
   "outputs": [],
   "source": [
    "ss = StandardScaler()\n",
    "X_scaled = ss.fit_transform(X)"
   ]
  },
  {
   "cell_type": "code",
   "execution_count": null,
   "id": "91b2b82f",
   "metadata": {},
   "outputs": [],
   "source": [
    "X_train, X_test, y_train, y_test = train_test_split(X_scaled, y, test_size=0.2, random_state=42)"
   ]
  },
  {
   "cell_type": "code",
   "execution_count": null,
   "id": "7854b664",
   "metadata": {},
   "outputs": [],
   "source": [
    "logreg = LogisticRegression()\n",
    "logreg.fit(X_train, y_train)"
   ]
  },
  {
   "cell_type": "code",
   "execution_count": null,
   "id": "876ea3d1",
   "metadata": {},
   "outputs": [],
   "source": [
    "pred_test = logreg.predict(X_test)"
   ]
  },
  {
   "cell_type": "code",
   "execution_count": null,
   "id": "c1f2ac73",
   "metadata": {},
   "outputs": [],
   "source": [
    "pred_train = logreg.predict(X_train)"
   ]
  },
  {
   "cell_type": "code",
   "execution_count": null,
   "id": "caf40543",
   "metadata": {},
   "outputs": [],
   "source": [
    "train_score = accuracy_score(y_train, pred_train)\n",
    "print(\"Train Score: \", train_score)"
   ]
  },
  {
   "cell_type": "code",
   "execution_count": null,
   "id": "06c5ca25",
   "metadata": {},
   "outputs": [],
   "source": [
    "test_score = accuracy_score(y_test, pred_test)\n",
    "print(\"Test Score:\", test_score)"
   ]
  },
  {
   "cell_type": "code",
   "execution_count": null,
   "id": "e096a0ce",
   "metadata": {},
   "outputs": [],
   "source": [
    "pickle.dump(logreg, open(\"waf/website/models/logreg.pkl\", \"wb\"))\n",
    "pickle.dump(ss, open(\"waf/website/models/logreg_ss.pkl\", \"wb\"))"
   ]
  },
  {
   "cell_type": "code",
   "execution_count": null,
   "id": "23b71e25",
   "metadata": {},
   "outputs": [],
   "source": [
    "cm = confusion_matrix(pred_test, y_test)\n",
    "plt.figure()\n",
    "sns.heatmap(cm, annot=True, cmap=\"Pastel1\", fmt=\".0f\")\n",
    "plt.xlabel(\"Predicted\")\n",
    "plt.ylabel(\"Actual\")\n",
    "plt.show()"
   ]
  },
  {
   "cell_type": "code",
   "execution_count": null,
   "id": "7d472899",
   "metadata": {},
   "outputs": [],
   "source": []
  },
  {
   "cell_type": "code",
   "execution_count": null,
   "id": "500cb274",
   "metadata": {},
   "outputs": [],
   "source": []
  },
  {
   "cell_type": "code",
   "execution_count": null,
   "id": "e191a25a",
   "metadata": {},
   "outputs": [],
   "source": []
  },
  {
   "cell_type": "code",
   "execution_count": null,
   "id": "32216bb4",
   "metadata": {},
   "outputs": [],
   "source": []
  },
  {
   "cell_type": "code",
   "execution_count": null,
   "id": "2ea14ec4",
   "metadata": {},
   "outputs": [],
   "source": []
  },
  {
   "cell_type": "code",
   "execution_count": null,
   "id": "70178006",
   "metadata": {},
   "outputs": [],
   "source": [
    "df.columns"
   ]
  },
  {
   "cell_type": "code",
   "execution_count": null,
   "id": "fdacc02f",
   "metadata": {},
   "outputs": [],
   "source": []
  },
  {
   "cell_type": "markdown",
   "id": "e25ba200",
   "metadata": {},
   "source": [
    "# Test"
   ]
  },
  {
   "cell_type": "code",
   "execution_count": null,
   "id": "51b9841e",
   "metadata": {},
   "outputs": [],
   "source": [
    "columns = ['query', 'is_xss', 'is_lfi', 'is_oci', 'is_sqli', 'url_len',\n",
    "       'delim_count', 'dot_count', 'at_count', 'subdir_count', 'query_len',\n",
    "       'total_digits_url', 'total_letter_url', 'url_tokenized', 'url_stemmed',\n",
    "       'total_digits_domain', 'total_letter_domain', 'total_digits_path',\n",
    "       'total_letter_path', 'has_extension', 'extension', 'has_parameter']"
   ]
  },
  {
   "cell_type": "code",
   "execution_count": null,
   "id": "db7c4c7d",
   "metadata": {},
   "outputs": [],
   "source": [
    "test1 = 'hrttz9fj.dll?<script>document.cookie=\"testtbjy=7334;\"</script>' # 1\n",
    "test2 = 'index.php?option=com_mailto&tmpl=component&link=aHR0cDovL2FkdmVudHVyZ' # 1\n",
    "test3 = 'nba/player/_/id/3457/brandon-rush' # 0\n",
    "test4 = '?q=anthony-hamilton-soulife' # 0\n",
    "test5 = 'site/relationship_detail.php?name=Martin-Brodeur&celebid=12150&relid=11371' # 0"
   ]
  },
  {
   "cell_type": "code",
   "execution_count": null,
   "id": "35e4ac25",
   "metadata": {},
   "outputs": [],
   "source": [
    "test_df = pd.DataFrame(columns=columns)"
   ]
  },
  {
   "cell_type": "code",
   "execution_count": null,
   "id": "adfa9281",
   "metadata": {},
   "outputs": [],
   "source": [
    "test_df.loc[0, \"query\"] = test1\n",
    "test_df.loc[1, \"query\"] = test2\n",
    "test_df.loc[2, \"query\"] = test3\n",
    "test_df.loc[3, \"query\"] = test4\n",
    "test_df.loc[4, \"query\"] = test5"
   ]
  },
  {
   "cell_type": "code",
   "execution_count": null,
   "id": "d4dc412f",
   "metadata": {},
   "outputs": [],
   "source": [
    "test_df.head()"
   ]
  },
  {
   "cell_type": "code",
   "execution_count": null,
   "id": "5e535525",
   "metadata": {},
   "outputs": [],
   "source": [
    "stemmer = SnowballStemmer(\"english\")\n",
    "tokenizer = RegexpTokenizer(r\"[A-Za-z]+\")"
   ]
  },
  {
   "cell_type": "code",
   "execution_count": null,
   "id": "093257ec",
   "metadata": {},
   "outputs": [],
   "source": [
    "def preprocess(test_df):\n",
    "    stemmer = SnowballStemmer(\"english\")\n",
    "    tokenizer = RegexpTokenizer(r\"[A-Za-z]+\")\n",
    "    test_df[\"is_xss\"] = test_df[\"query\"].apply(xss_check)\n",
    "    test_df[\"is_lfi\"] = test_df[\"query\"].apply(lfi_check)\n",
    "    test_df[\"is_oci\"] = test_df[\"query\"].apply(command_injection_check)\n",
    "    test_df[\"is_sqli\"] = test_df[\"query\"].apply(sql_injection_check)\n",
    "    test_df[\"url_len\"] = test_df[\"query\"].apply(urllen)\n",
    "    test_df[\"delim_count\"] = test_df[\"query\"].apply(delimitercount)\n",
    "    test_df[\"dot_count\"] = test_df[\"query\"].apply(dotcount)\n",
    "    test_df[\"at_count\"] = test_df[\"query\"].apply(atcount)\n",
    "    test_df[\"subdir_count\"] = test_df[\"query\"].apply(subdircount)\n",
    "    test_df[\"query_len\"] = test_df[\"query\"].apply(query_count)\n",
    "    test_df[\"total_digits_url\"] = test_df[\"query\"].apply(total_digits_in_url)\n",
    "    test_df[\"total_letter_url\"] = test_df[\"query\"].apply(total_letter_in_url)\n",
    "    test_df[\"url_tokenized\"] = test_df[\"query\"].apply(lambda x: tokenizer.tokenize(x))\n",
    "    test_df[\"url_stemmed\"] = test_df[\"url_tokenized\"].apply(stem_url)\n",
    "    test_df[\"total_digits_domain\"] = test_df[\"query\"].apply(total_digits_domain)\n",
    "    test_df[\"total_letter_domain\"] = test_df[\"query\"].apply(total_letter_domain)\n",
    "    test_df[\"total_digits_path\"] = test_df[\"query\"].apply(total_digits_path)\n",
    "    test_df[\"total_letter_path\"] = test_df[\"query\"].apply(total_letter_path)\n",
    "    test_df[\"has_extension\"] = test_df[\"query\"].apply(has_extension)\n",
    "    test_df[\"extension\"] = test_df[\"query\"].apply(find_extension)\n",
    "    test_df[\"has_parameter\"] = test_df[\"query\"].apply(has_parameter)\n",
    "    return test_df"
   ]
  },
  {
   "cell_type": "code",
   "execution_count": null,
   "id": "4fa58ee8",
   "metadata": {},
   "outputs": [],
   "source": [
    "test_df = preprocess(test_df)"
   ]
  },
  {
   "cell_type": "code",
   "execution_count": null,
   "id": "4cf719db",
   "metadata": {},
   "outputs": [],
   "source": [
    "test_df.head()"
   ]
  },
  {
   "cell_type": "code",
   "execution_count": null,
   "id": "0d229468",
   "metadata": {},
   "outputs": [],
   "source": [
    "dropped = test_df.drop([\"query\", \"url_tokenized\", \"url_stemmed\", \"extension\"], axis=1)"
   ]
  },
  {
   "cell_type": "code",
   "execution_count": null,
   "id": "49d64bdc",
   "metadata": {},
   "outputs": [],
   "source": [
    "dropped_scaled = ss.transform(dropped)"
   ]
  },
  {
   "cell_type": "code",
   "execution_count": null,
   "id": "6e2d4e06",
   "metadata": {},
   "outputs": [],
   "source": [
    "logreg.predict(dropped_scaled)"
   ]
  },
  {
   "cell_type": "code",
   "execution_count": null,
   "id": "11c227c0",
   "metadata": {},
   "outputs": [],
   "source": [
    "log = pd."
   ]
  }
 ],
 "metadata": {
  "kernelspec": {
   "display_name": "Python 3 (ipykernel)",
   "language": "python",
   "name": "python3"
  },
  "language_info": {
   "codemirror_mode": {
    "name": "ipython",
    "version": 3
   },
   "file_extension": ".py",
   "mimetype": "text/x-python",
   "name": "python",
   "nbconvert_exporter": "python",
   "pygments_lexer": "ipython3",
   "version": "3.10.12"
  }
 },
 "nbformat": 4,
 "nbformat_minor": 5
}
